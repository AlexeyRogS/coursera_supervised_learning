{
 "cells": [
  {
   "cell_type": "code",
   "execution_count": 1,
   "id": "29d5ac76-5fb1-4bbd-995d-e3cdcd345f97",
   "metadata": {},
   "outputs": [],
   "source": [
    "from sklearn.datasets import load_boston\n",
    "from sklearn.model_selection import train_test_split\n",
    "from sklearn.tree import DecisionTreeRegressor\n",
    "from sklearn.metrics import mean_squared_error\n",
    "import numpy as np\n",
    "import matplotlib.pyplot as plt"
   ]
  },
  {
   "cell_type": "code",
   "execution_count": 2,
   "id": "8eea9d54-252b-4880-a380-a3315e697097",
   "metadata": {},
   "outputs": [],
   "source": [
    "X, y = load_boston(return_X_y = True)"
   ]
  },
  {
   "cell_type": "code",
   "execution_count": 3,
   "id": "3c525d4a-2743-4339-90ea-6a8c26d37a10",
   "metadata": {},
   "outputs": [],
   "source": [
    "X_train, X_test, y_train, y_test = train_test_split(X, y, test_size=0.25, shuffle=False)"
   ]
  },
  {
   "cell_type": "code",
   "execution_count": 4,
   "id": "1c1dd545-6162-4432-b0f5-e51468621647",
   "metadata": {},
   "outputs": [],
   "source": [
    "def write_answer(task_num, ans, verbose=True):\n",
    "    if verbose:\n",
    "        print(ans)\n",
    "    with open(f\"boosting_task{task_num}.txt\", 'w') as f:\n",
    "        f.write(ans)"
   ]
  },
  {
   "cell_type": "code",
   "execution_count": 5,
   "id": "3aa943ce-5d76-42f5-8593-39eaacb71974",
   "metadata": {},
   "outputs": [],
   "source": [
    "class SimpleBoosting:\n",
    "    def __init__(self, estimator, N=50):\n",
    "        self.estimator = estimator\n",
    "        self.N = N\n",
    "        \n",
    "        \n",
    "    def fit(self, X, y):\n",
    "        self.estimators = []\n",
    "        self.coefs = []\n",
    "        for i in range(self.N):\n",
    "            tree = self.estimator(max_depth=5, random_state=42)\n",
    "            if i == 0:\n",
    "                tree.fit(X, y)\n",
    "            else:\n",
    "                tree.fit(X, y - self.predict(X))\n",
    "            self.estimators.append(tree)\n",
    "            self.coefs.append(0.9 / (1.0 + i))\n",
    "    \n",
    "    def predict(self, X):\n",
    "        # self.coefs[i]  ();\n",
    "        # self.estimators[i].predict()   (X.shape[0],)\n",
    "        # predicts (N, X.shape[0])\n",
    "        predicts = [self.coefs[i] * self.estimators[i].predict(X)\n",
    "                    for i in range(len(self.estimators))]\n",
    "        precits = np.array(predicts)\n",
    "        return np.sum(predicts, axis=0)"
   ]
  },
  {
   "cell_type": "code",
   "execution_count": 6,
   "id": "62e2f1aa-4323-4a65-bcb4-3e6f59c3ef10",
   "metadata": {},
   "outputs": [],
   "source": [
    "boost = SimpleBoosting(DecisionTreeRegressor)"
   ]
  },
  {
   "cell_type": "code",
   "execution_count": 7,
   "id": "b00681cc-c155-47fd-b1b2-bce5ee592202",
   "metadata": {},
   "outputs": [],
   "source": [
    "boost.fit(X_train, y_train)"
   ]
  },
  {
   "cell_type": "code",
   "execution_count": 8,
   "id": "d0677985-bc77-4873-901f-a5fb572612d1",
   "metadata": {},
   "outputs": [
    {
     "name": "stdout",
     "output_type": "stream",
     "text": [
      "4.812550945781193\n"
     ]
    }
   ],
   "source": [
    "mse = mean_squared_error(y_test, boost.predict(X_test))\n",
    "write_answer(3, str(mse** 0.5))"
   ]
  },
  {
   "cell_type": "code",
   "execution_count": 10,
   "id": "a551cdde-60cd-4380-af73-7fe9ed017f7c",
   "metadata": {},
   "outputs": [],
   "source": [
    "from sklearn.linear_model import LinearRegression"
   ]
  },
  {
   "cell_type": "code",
   "execution_count": 11,
   "id": "65ae733f-2826-4350-8b81-a1a05200e5fb",
   "metadata": {},
   "outputs": [
    {
     "name": "stdout",
     "output_type": "stream",
     "text": [
      "8.25497975354908\n"
     ]
    }
   ],
   "source": [
    "lr = LinearRegression()\n",
    "lr.fit(X_train, y_train)\n",
    "mse = mean_squared_error(y_test, lr.predict(X_test))\n",
    "write_answer(5, str(mse** 0.5))"
   ]
  }
 ],
 "metadata": {
  "kernelspec": {
   "display_name": "Python 3",
   "language": "python",
   "name": "python3"
  },
  "language_info": {
   "codemirror_mode": {
    "name": "ipython",
    "version": 3
   },
   "file_extension": ".py",
   "mimetype": "text/x-python",
   "name": "python",
   "nbconvert_exporter": "python",
   "pygments_lexer": "ipython3",
   "version": "3.6.12"
  }
 },
 "nbformat": 4,
 "nbformat_minor": 5
}
