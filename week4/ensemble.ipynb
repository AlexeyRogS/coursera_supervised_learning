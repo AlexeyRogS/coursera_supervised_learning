{
 "cells": [
  {
   "cell_type": "code",
   "execution_count": 1,
   "id": "488df0c1-63ee-485d-b3be-bf12593d87f2",
   "metadata": {},
   "outputs": [],
   "source": [
    "from sklearn.model_selection import cross_val_score\n",
    "from sklearn.datasets import load_digits\n",
    "\n",
    "import matplotlib.pyplot as plt\n",
    "import numpy as np"
   ]
  },
  {
   "cell_type": "code",
   "execution_count": 2,
   "id": "7d658923-1f36-466e-95d0-d0102069d8f6",
   "metadata": {},
   "outputs": [],
   "source": [
    "X, y = load_digits(return_X_y=True)"
   ]
  },
  {
   "cell_type": "code",
   "execution_count": 3,
   "id": "7c9c3b70-3c78-415e-834d-16ce1fc94394",
   "metadata": {},
   "outputs": [
    {
     "data": {
      "image/png": "[encoded data removed]",
      "text/plain": [
       "<Figure size 1008x864 with 40 Axes>"
      ]
     },
     "metadata": {
      "needs_background": "light"
     },
     "output_type": "display_data"
    }
   ],
   "source": [
    "def draw_digit(x, label, ax, shape=(8, 8)):\n",
    "    x = x.reshape(shape)\n",
    "    ax.imshow(x, cmap='gray')\n",
    "    ax.set_title(label)\n",
    "\n",
    "def draw_random(data, labels, rows=5, cols=8):\n",
    "    fig, axes = plt.subplots(nrows=rows, ncols=cols, figsize=(14, 12))\n",
    "    indices = np.random.choice(len(labels), size = rows * cols, replace=False)\n",
    "    indices = iter(indices)\n",
    "    \n",
    "    for row in range(rows):\n",
    "        for col in range(cols):\n",
    "            i = next(indices)\n",
    "            ax = axes[row][col]\n",
    "            draw_digit(data[i], labels[i], ax)\n",
    "    plt.show()\n",
    "\n",
    "draw_random(X, y)"
   ]
  },
  {
   "cell_type": "code",
   "execution_count": 4,
   "id": "80d05135-f30b-4d30-86ff-468e17efe72f",
   "metadata": {},
   "outputs": [],
   "source": [
    "def write_ans(task_num, ans, verbose=True):\n",
    "    print(ans)\n",
    "    with open(f\"task{task_num}.txt\", 'w') as f:\n",
    "        f.write(ans)"
   ]
  },
  {
   "cell_type": "code",
   "execution_count": 11,
   "id": "8dda5b63-3dc8-4c9e-bcd1-bb7e94fa23d8",
   "metadata": {},
   "outputs": [],
   "source": [
    "from sklearn.tree import DecisionTreeClassifier\n",
    "from sklearn.ensemble import BaggingClassifier, RandomForestClassifier"
   ]
  },
  {
   "cell_type": "code",
   "execution_count": 6,
   "id": "7a9c3cb2-0631-4a3c-96e3-a24c5e4649ac",
   "metadata": {},
   "outputs": [
    {
     "name": "stdout",
     "output_type": "stream",
     "text": [
      "0.8296896337678461\n"
     ]
    }
   ],
   "source": [
    "clf = DecisionTreeClassifier()\n",
    "scores = cross_val_score(clf, X, y, cv=10)\n",
    "write_ans(1, str(scores.mean()))"
   ]
  },
  {
   "cell_type": "code",
   "execution_count": 7,
   "id": "cb684a77-3e34-4a95-8b65-a85db8cd81a0",
   "metadata": {},
   "outputs": [
    {
     "name": "stdout",
     "output_type": "stream",
     "text": [
      "0.922042209807573\n"
     ]
    }
   ],
   "source": [
    "clf = BaggingClassifier(n_estimators=100)\n",
    "scores = cross_val_score(clf, X, y, cv=10)\n",
    "write_ans(2, str(scores.mean()))"
   ]
  },
  {
   "cell_type": "code",
   "execution_count": 8,
   "id": "1b3086bc-bbdb-43d5-a844-123da55e4390",
   "metadata": {},
   "outputs": [
    {
     "name": "stdout",
     "output_type": "stream",
     "text": [
      "0.9321135940409683\n"
     ]
    }
   ],
   "source": [
    "clf = BaggingClassifier(n_estimators=100, max_features=int(X.shape[1]**0.5))\n",
    "scores = cross_val_score(clf, X, y, cv=10)\n",
    "write_ans(3, str(scores.mean()))"
   ]
  },
  {
   "cell_type": "code",
   "execution_count": 10,
   "id": "f5f4dd69-25cd-4759-8d06-ffe7e08d166b",
   "metadata": {},
   "outputs": [
    {
     "name": "stdout",
     "output_type": "stream",
     "text": [
      "0.9488050900062073\n"
     ]
    }
   ],
   "source": [
    "clf = BaggingClassifier(base_estimator=DecisionTreeClassifier(max_features=int(X.shape[1]**0.5)),\n",
    "                        n_estimators=100)\n",
    "scores = cross_val_score(clf, X, y, cv=10)\n",
    "write_ans(4, str(scores.mean()))"
   ]
  },
  {
   "cell_type": "code",
   "execution_count": 13,
   "id": "2a475074-1b96-4f9e-8912-e20b2c14910e",
   "metadata": {},
   "outputs": [
    {
     "data": {
      "text/plain": [
       "0.9482402234636871"
      ]
     },
     "execution_count": 13,
     "metadata": {},
     "output_type": "execute_result"
    }
   ],
   "source": [
    "scores = cross_val_score(RandomForestClassifier(), X, y, cv=10)\n",
    "scores.mean()"
   ]
  },
  {
   "cell_type": "code",
   "execution_count": 14,
   "id": "513b1d40-f7d8-4093-921f-5a945783519f",
   "metadata": {},
   "outputs": [
    {
     "name": "stdout",
     "output_type": "stream",
     "text": [
      "2 3 4 7\n"
     ]
    }
   ],
   "source": [
    "write_ans(5, \"2 3 4 7\")"
   ]
  },
  {
   "cell_type": "code",
   "execution_count": null,
   "id": "f46a2c3e-9d1c-4431-972d-32a08ecea304",
   "metadata": {},
   "outputs": [],
   "source": []
  },
  {
   "cell_type": "code",
   "execution_count": null,
   "id": "288e2351-4752-4d74-ac42-bfaa97eb79f2",
   "metadata": {},
   "outputs": [],
   "source": []
  },
  {
   "cell_type": "code",
   "execution_count": null,
   "id": "bad193ef-79e4-4041-aa31-b6b08e71316b",
   "metadata": {},
   "outputs": [],
   "source": []
  },
  {
   "cell_type": "code",
   "execution_count": null,
   "id": "57411c1b-7be2-4a47-9a1d-0726aa7d8d77",
   "metadata": {},
   "outputs": [],
   "source": []
  },
  {
   "cell_type": "code",
   "execution_count": null,
   "id": "1859fc57-47c1-4640-8427-48050106bb8e",
   "metadata": {},
   "outputs": [],
   "source": []
  },
  {
   "cell_type": "code",
   "execution_count": null,
   "id": "830f9fee-6c47-4e88-8761-cb51f38cba22",
   "metadata": {},
   "outputs": [],
   "source": []
  },
  {
   "cell_type": "code",
   "execution_count": null,
   "id": "e5d83a02-2089-47e3-abba-29731964499e",
   "metadata": {},
   "outputs": [],
   "source": []
  },
  {
   "cell_type": "code",
   "execution_count": null,
   "id": "f327e017-c9f6-4256-9520-f5f14057ae9e",
   "metadata": {},
   "outputs": [],
   "source": []
  },
  {
   "cell_type": "code",
   "execution_count": null,
   "id": "8ecccd9a-b4b2-4ac1-ad5c-70e95fd073bc",
   "metadata": {},
   "outputs": [],
   "source": []
  },
  {
   "cell_type": "code",
   "execution_count": null,
   "id": "f9509063-b68d-46ce-8d9a-67846d6dc988",
   "metadata": {},
   "outputs": [],
   "source": []
  },
  {
   "cell_type": "code",
   "execution_count": null,
   "id": "aacf9512-2aaf-451c-b866-0722c3b081e4",
   "metadata": {},
   "outputs": [],
   "source": []
  }
 ],
 "metadata": {
  "kernelspec": {
   "display_name": "Python 3",
   "language": "python",
   "name": "python3"
  },
  "language_info": {
   "codemirror_mode": {
    "name": "ipython",
    "version": 3
   },
   "file_extension": ".py",
   "mimetype": "text/x-python",
   "name": "python",
   "nbconvert_exporter": "python",
   "pygments_lexer": "ipython3",
   "version": "3.6.12"
  }
 },
 "nbformat": 4,
 "nbformat_minor": 5
}
