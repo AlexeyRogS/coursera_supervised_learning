{
 "cells": [
  {
   "cell_type": "code",
   "execution_count": 1,
   "id": "9be9ca3f-703f-4c4f-9a36-fb5d3293ccbf",
   "metadata": {},
   "outputs": [],
   "source": [
    "from sklearn.datasets import load_digits\n",
    "from sklearn.model_selection import train_test_split\n",
    "import numpy as np"
   ]
  },
  {
   "cell_type": "code",
   "execution_count": 2,
   "id": "77dbd138-3dae-4a1d-9f1a-8a2f1fe028ab",
   "metadata": {},
   "outputs": [],
   "source": [
    "X, y = load_digits(return_X_y=True)\n",
    "X_train, X_test, y_train, y_test = train_test_split(X, y, test_size=0.25, shuffle=False)"
   ]
  },
  {
   "cell_type": "code",
   "execution_count": 3,
   "id": "f31a0135-4868-40ae-aebe-ac1cdc71d2dc",
   "metadata": {},
   "outputs": [],
   "source": [
    "def write_ans(name, ans, verbose=True):\n",
    "    if verbose:\n",
    "        print(ans)\n",
    "    with open(f\"{name}.txt\", 'w') as f:\n",
    "        f.write(str(ans))"
   ]
  },
  {
   "cell_type": "code",
   "execution_count": 4,
   "id": "2ac589c4-38d7-43dd-aafc-cec4239ad815",
   "metadata": {},
   "outputs": [],
   "source": [
    "class kNN:\n",
    "    def __init__(self, k=4):\n",
    "        self.k = k\n",
    "    \n",
    "    def fit(self, X, y):\n",
    "        self.data_pool = (X, y)\n",
    "    \n",
    "    def fit_predict(self, X, y):\n",
    "        self.fit(X, y)\n",
    "        return self.predict(X)\n",
    "    \n",
    "    def predict(self, X):\n",
    "        if not hasattr(self, 'data_pool'):\n",
    "            raise ValueError('not fitted model')\n",
    "        \n",
    "        # X (N, D)\n",
    "        distances = self.data_pool[0][None,:,:] - X[:,None,:]  # (N, train_N, D)\n",
    "        distances = np.sum(distances**2, axis=2)\n",
    "        \n",
    "        idx = np.argpartition(distances, self.k - 1, axis=1)\n",
    "        idx = idx[:,:self.k]  # (N, K)\n",
    "        \n",
    "        knn = np.take_along_axis(self.data_pool[1][:,None], idx, axis=0) # (N, K)\n",
    "        \n",
    "        return np.apply_along_axis(lambda x: np.bincount(x).argmax(), 1, knn)"
   ]
  },
  {
   "cell_type": "code",
   "execution_count": 5,
   "id": "87074747-acd0-49b1-a17f-f3be2bb01212",
   "metadata": {},
   "outputs": [],
   "source": [
    "knn = kNN(k=1)\n",
    "knn.fit(X_train, y_train)"
   ]
  },
  {
   "cell_type": "code",
   "execution_count": 6,
   "id": "1ccbd140-e2c9-4eeb-9063-9418abf7f02e",
   "metadata": {},
   "outputs": [
    {
     "name": "stdout",
     "output_type": "stream",
     "text": [
      "0.03777777777777778\n"
     ]
    }
   ],
   "source": [
    "write_ans('task1', np.mean(knn.predict(X_test) != y_test))"
   ]
  },
  {
   "cell_type": "code",
   "execution_count": 7,
   "id": "58dd15a4-7b28-4d59-af4e-71ab16ebff34",
   "metadata": {},
   "outputs": [],
   "source": [
    "from sklearn.ensemble import RandomForestClassifier"
   ]
  },
  {
   "cell_type": "code",
   "execution_count": 8,
   "id": "48ae4d01-9268-4d4f-ae5c-0f5f43b2f47f",
   "metadata": {},
   "outputs": [
    {
     "data": {
      "text/plain": [
       "RandomForestClassifier(n_estimators=1000)"
      ]
     },
     "execution_count": 8,
     "metadata": {},
     "output_type": "execute_result"
    }
   ],
   "source": [
    "clf = RandomForestClassifier(n_estimators=1000)\n",
    "clf.fit(X_train, y_train)"
   ]
  },
  {
   "cell_type": "code",
   "execution_count": 12,
   "id": "9f4c86e5-e5c1-45d3-8e78-217203a420f1",
   "metadata": {},
   "outputs": [
    {
     "name": "stdout",
     "output_type": "stream",
     "text": [
      "0.06444444444444444\n"
     ]
    }
   ],
   "source": [
    "write_ans('task2', np.mean(clf.predict(X_test) != y_test))"
   ]
  }
 ],
 "metadata": {
  "kernelspec": {
   "display_name": "Python 3",
   "language": "python",
   "name": "python3"
  },
  "language_info": {
   "codemirror_mode": {
    "name": "ipython",
    "version": 3
   },
   "file_extension": ".py",
   "mimetype": "text/x-python",
   "name": "python",
   "nbconvert_exporter": "python",
   "pygments_lexer": "ipython3",
   "version": "3.6.12"
  }
 },
 "nbformat": 4,
 "nbformat_minor": 5
}
