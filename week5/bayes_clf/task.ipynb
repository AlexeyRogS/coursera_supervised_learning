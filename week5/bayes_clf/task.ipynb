{
 "cells": [
  {
   "cell_type": "code",
   "execution_count": 1,
   "id": "e074d9dd-0f05-44a8-afd6-1726031bfc4e",
   "metadata": {},
   "outputs": [],
   "source": [
    "from sklearn.datasets import load_digits, load_breast_cancer"
   ]
  },
  {
   "cell_type": "code",
   "execution_count": 2,
   "id": "0668708f-0d19-42a4-9b5b-8bfb2ab9629e",
   "metadata": {},
   "outputs": [],
   "source": [
    "X_digits_data, y_digits_data = load_digits(return_X_y=True)\n",
    "X_cancer_data, y_cancer_data = load_breast_cancer(return_X_y=True)"
   ]
  },
  {
   "cell_type": "code",
   "execution_count": 3,
   "id": "05fbcb06-58f2-43d2-a1c9-413a560da31b",
   "metadata": {},
   "outputs": [],
   "source": [
    "from sklearn.model_selection import cross_val_score\n",
    "from sklearn.naive_bayes import BernoulliNB, MultinomialNB, GaussianNB"
   ]
  },
  {
   "cell_type": "code",
   "execution_count": 4,
   "id": "a38bb254-8b06-4d6e-b3e2-581dfe63441d",
   "metadata": {},
   "outputs": [],
   "source": [
    "estimators = {\n",
    "    'bernoulli': BernoulliNB(),\n",
    "    'multinomial': MultinomialNB(),\n",
    "    'gaussian': GaussianNB()\n",
    "}"
   ]
  },
  {
   "cell_type": "code",
   "execution_count": 5,
   "id": "6ebd48d7-88d7-4843-a0c9-f759c6e36172",
   "metadata": {},
   "outputs": [],
   "source": [
    "results = dict()\n",
    "best_scores = {'digit': 0, 'cancer': 0}\n",
    "for dataset, X, y in [('digit', X_digits_data, y_digits_data), ('cancer', X_cancer_data, y_cancer_data)]:\n",
    "    for key, clf in estimators.items():\n",
    "        scores = cross_val_score(clf, X, y)\n",
    "        if dataset not in results:\n",
    "            results[dataset] = dict()\n",
    "        mean_score = scores.mean()\n",
    "        results[dataset][key] = {'scores': scores, 'mean_score': mean_score}\n",
    "        if mean_score > best_scores[dataset]:\n",
    "            best_scores[dataset] = mean_score"
   ]
  },
  {
   "cell_type": "code",
   "execution_count": 6,
   "id": "9581b8d5-6348-44a6-b84e-d4ad0c07032b",
   "metadata": {},
   "outputs": [
    {
     "data": {
      "text/plain": [
       "{'digit': {'bernoulli': {'scores': array([0.85833333, 0.75      , 0.80222841, 0.92200557, 0.78830084]),\n",
       "   'mean_score': 0.8241736304549674},\n",
       "  'multinomial': {'scores': array([0.88611111, 0.83611111, 0.8551532 , 0.94150418, 0.83286908]),\n",
       "   'mean_score': 0.8703497369235531},\n",
       "  'gaussian': {'scores': array([0.78055556, 0.78333333, 0.79387187, 0.8718663 , 0.80501393]),\n",
       "   'mean_score': 0.8069281956050759}},\n",
       " 'cancer': {'bernoulli': {'scores': array([0.62280702, 0.62280702, 0.63157895, 0.63157895, 0.62831858]),\n",
       "   'mean_score': 0.6274181027790716},\n",
       "  'multinomial': {'scores': array([0.86842105, 0.90350877, 0.88596491, 0.92105263, 0.90265487]),\n",
       "   'mean_score': 0.8963204471355379},\n",
       "  'gaussian': {'scores': array([0.92105263, 0.92105263, 0.94736842, 0.94736842, 0.95575221]),\n",
       "   'mean_score': 0.9385188635305075}}}"
      ]
     },
     "execution_count": 6,
     "metadata": {},
     "output_type": "execute_result"
    }
   ],
   "source": [
    "results"
   ]
  },
  {
   "cell_type": "code",
   "execution_count": 7,
   "id": "46e72c78-4291-444c-9324-df37246bd25a",
   "metadata": {},
   "outputs": [],
   "source": [
    "def write_ans(name, ans, verbose=True):\n",
    "    if verbose:\n",
    "        print(ans)\n",
    "    with open(f\"{name}.txt\", 'w') as f:\n",
    "        f.write(str(ans))"
   ]
  },
  {
   "cell_type": "code",
   "execution_count": 8,
   "id": "85bb5b16-0a68-4717-94b7-b73857d4372e",
   "metadata": {},
   "outputs": [
    {
     "name": "stdout",
     "output_type": "stream",
     "text": [
      "0.8703497369235531\n",
      "0.9385188635305075\n"
     ]
    }
   ],
   "source": [
    "write_ans('digits', best_scores['digit'])\n",
    "write_ans('cancer', best_scores['cancer'])"
   ]
  },
  {
   "cell_type": "code",
   "execution_count": 49,
   "id": "60471127-dab7-4166-bba5-d56c68daf318",
   "metadata": {},
   "outputs": [
    {
     "name": "stdout",
     "output_type": "stream",
     "text": [
      "3 4\n"
     ]
    }
   ],
   "source": [
    "write_ans('task3', '3 4')"
   ]
  }
 ],
 "metadata": {
  "kernelspec": {
   "display_name": "Python 3",
   "language": "python",
   "name": "python3"
  },
  "language_info": {
   "codemirror_mode": {
    "name": "ipython",
    "version": 3
   },
   "file_extension": ".py",
   "mimetype": "text/x-python",
   "name": "python",
   "nbconvert_exporter": "python",
   "pygments_lexer": "ipython3",
   "version": "3.6.12"
  }
 },
 "nbformat": 4,
 "nbformat_minor": 5
}
